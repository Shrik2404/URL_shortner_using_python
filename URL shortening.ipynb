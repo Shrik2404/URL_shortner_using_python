{
 "cells": [
  {
   "cell_type": "code",
   "execution_count": 2,
   "id": "127bb1e6",
   "metadata": {},
   "outputs": [],
   "source": [
    "d=dict()\n",
    "import random \n",
    "import string\n",
    "\n",
    "\n",
    "def getshortURL(longURL):\n",
    "    l=random.randint(6,10);\n",
    "    chars = string.ascii_lowercase\n",
    "    a=''\n",
    "    shorturl=[]\n",
    "    for i in range (0,l):\n",
    "        a=random.choice(chars)\n",
    "        shorturl.append(a)\n",
    "    shorturl=\"\".join(shorturl)\n",
    "    if shorturl in d:\n",
    "        return getshortURL(longURL);\n",
    "    else:\n",
    "        d[shorturl]=longURL;\n",
    "        \n",
    "        r=\"https://www.shortURL.com/\"+shorturl\n",
    "        return r;\n",
    "def getLongURL (shorturl):\n",
    "    k=shortURL[25:];\n",
    "    \n",
    "    if k in d:\n",
    "        return d[k];\n",
    "    else:\n",
    "        return None;"
   ]
  },
  {
   "cell_type": "code",
   "execution_count": 5,
   "id": "758c0eb9",
   "metadata": {},
   "outputs": [
    {
     "data": {
      "text/plain": [
       "'https://www.shortURL.com/ycjxha'"
      ]
     },
     "execution_count": 5,
     "metadata": {},
     "output_type": "execute_result"
    }
   ],
   "source": [
    "getshortURL(\"http://localhost:8888/notebooks/seven%20mentor%20python/URL%20shortening.ipynb\")"
   ]
  },
  {
   "cell_type": "code",
   "execution_count": null,
   "id": "1c3bd63f",
   "metadata": {},
   "outputs": [],
   "source": []
  },
  {
   "cell_type": "code",
   "execution_count": null,
   "id": "6284c872",
   "metadata": {},
   "outputs": [],
   "source": []
  }
 ],
 "metadata": {
  "kernelspec": {
   "display_name": "Python 3 (ipykernel)",
   "language": "python",
   "name": "python3"
  },
  "language_info": {
   "codemirror_mode": {
    "name": "ipython",
    "version": 3
   },
   "file_extension": ".py",
   "mimetype": "text/x-python",
   "name": "python",
   "nbconvert_exporter": "python",
   "pygments_lexer": "ipython3",
   "version": "3.9.7"
  }
 },
 "nbformat": 4,
 "nbformat_minor": 5
}
